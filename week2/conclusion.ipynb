{
 "cells": [
  {
   "cell_type": "markdown",
   "metadata": {},
   "source": [
    "# Naive Bayes"
   ]
  },
  {
   "cell_type": "code",
   "execution_count": 1,
   "metadata": {
    "tags": []
   },
   "outputs": [],
   "source": [
    "# fmt: off\n",
    "import os\n",
    "import sys\n",
    "\n",
    "sys.path.append(os.path.join(os.getcwd(), \"..\"))\n",
    "# fmt: on\n",
    "\n",
    "import math\n",
    "import os\n",
    "\n",
    "import nltk\n",
    "import numpy  # Library for linear algebra and math utils\n",
    "import pandas  # Dataframe library\n",
    "import plotly.express\n",
    "\n",
    "from utils import build_freqs, tweet_to_stems"
   ]
  },
  {
   "cell_type": "markdown",
   "metadata": {},
   "source": [
    "## Training\n",
    "\n",
    "### Loading Sample Dataset"
   ]
  },
  {
   "cell_type": "code",
   "execution_count": 2,
   "metadata": {},
   "outputs": [],
   "source": [
    "positive_tweets = nltk.corpus.twitter_samples.strings(\"positive_tweets.json\")\n",
    "negative_tweets = nltk.corpus.twitter_samples.strings(\"negative_tweets.json\")\n",
    "\n",
    "train_positive_tweets = positive_tweets[:4000]\n",
    "train_negative_tweets = negative_tweets[:4000]"
   ]
  },
  {
   "cell_type": "markdown",
   "metadata": {},
   "source": [
    "### Building Log-Likelihood Map"
   ]
  },
  {
   "cell_type": "code",
   "execution_count": 3,
   "metadata": {},
   "outputs": [],
   "source": [
    "def get_log_likelihoods(positive_tweets, negative_tweets):\n",
    "    \"\"\"\n",
    "    Get lambda scores\n",
    "    \"\"\"\n",
    "    freqs = build_freqs(\n",
    "        tweets=positive_tweets + negative_tweets,\n",
    "        ys=numpy.append(\n",
    "            numpy.ones(shape=(len(positive_tweets), 1)),\n",
    "            numpy.zeros(shape=(len(negative_tweets), 1)),\n",
    "        ),\n",
    "    )\n",
    "\n",
    "    word_counts = {}\n",
    "    positive_total = negative_total = 0\n",
    "    for word in set((key[0] for key in freqs.keys())):\n",
    "        word_counts[word] = {\n",
    "            \"positive\": freqs.get((word, 1.0), 0),\n",
    "            \"negative\": freqs.get((word, 0.0), 0),\n",
    "        }\n",
    "        positive_total += word_counts[word][\"positive\"]\n",
    "        negative_total += word_counts[word][\"negative\"]\n",
    "\n",
    "    # log(P(word|positive)), log(P(word|negative))\n",
    "    # with Laplacian Smoothing\n",
    "    return {\n",
    "        word: {\n",
    "            \"positive\": math.log((counts[\"positive\"] + 1) / (positive_total + len(word_counts))),\n",
    "            \"negative\": math.log((counts[\"negative\"] + 1) / (negative_total + len(word_counts))),\n",
    "        }\n",
    "        for word, counts in word_counts.items()\n",
    "    }"
   ]
  },
  {
   "cell_type": "code",
   "execution_count": 4,
   "metadata": {},
   "outputs": [
    {
     "name": "stdout",
     "output_type": "stream",
     "text": [
      "('payment', {'positive': -9.796125034207629, 'negative': -9.108141519655936})\n",
      "('tasti', {'positive': -9.796125034207629, 'negative': -10.494435880775827})\n",
      "('🍵', {'positive': -10.489272214767574, 'negative': -9.395823592107716})\n",
      "('submiss', {'positive': -9.796125034207629, 'negative': -10.494435880775827})\n",
      "0.0\n"
     ]
    }
   ],
   "source": [
    "log_likelihoods = get_log_likelihoods(positive_tweets=train_positive_tweets, negative_tweets=train_negative_tweets)\n",
    "\n",
    "for item in list(log_likelihoods.items())[:4]:\n",
    "    print(item)\n",
    "\n",
    "log_prior = math.log(len(train_negative_tweets)) - math.log(len(train_negative_tweets))\n",
    "print(log_prior)"
   ]
  },
  {
   "cell_type": "markdown",
   "metadata": {},
   "source": [
    "## Prediction"
   ]
  },
  {
   "cell_type": "code",
   "execution_count": 5,
   "metadata": {},
   "outputs": [],
   "source": [
    "def predict_sentiment(tweet, log_likelihoods, log_prior):\n",
    "    p = log_prior\n",
    "    for stem in tweet_to_stems(tweet):\n",
    "        if stem in log_likelihoods:\n",
    "            log_likelihood = log_likelihoods[stem]\n",
    "            p += log_likelihood[\"positive\"] - log_likelihood[\"negative\"]\n",
    "\n",
    "    return 1.0 if p > 0 else 0.0"
   ]
  },
  {
   "cell_type": "code",
   "execution_count": 6,
   "metadata": {},
   "outputs": [
    {
     "name": "stdout",
     "output_type": "stream",
     "text": [
      "#FollowFriday @France_Inte @PKuchly57 @Milipol_Paris for being top engaged members in my community this week :)\n",
      "1.0\n",
      "hopeless for tmr :(\n",
      "0.0\n"
     ]
    }
   ],
   "source": [
    "from functools import partial\n",
    "\n",
    "predict = partial(predict_sentiment, log_likelihoods=log_likelihoods, log_prior=log_prior)\n",
    "\n",
    "print(train_positive_tweets[0])\n",
    "print(predict(train_positive_tweets[0]))\n",
    "print(train_negative_tweets[0])\n",
    "print(predict(train_negative_tweets[0]))"
   ]
  },
  {
   "cell_type": "markdown",
   "metadata": {},
   "source": [
    "## Measuring Accuracy"
   ]
  },
  {
   "cell_type": "code",
   "execution_count": 7,
   "metadata": {},
   "outputs": [
    {
     "data": {
      "text/plain": [
       "0.994"
      ]
     },
     "execution_count": 7,
     "metadata": {},
     "output_type": "execute_result"
    }
   ],
   "source": [
    "test_positive_tweets = positive_tweets[4000:]\n",
    "test_negative_tweets = negative_tweets[4000:]\n",
    "test_tweets = test_positive_tweets + test_negative_tweets\n",
    "test_sentiments = numpy.append(\n",
    "    numpy.ones(shape=(len(test_positive_tweets), 1)),\n",
    "    numpy.zeros(shape=(len(test_negative_tweets), 1)),\n",
    ")\n",
    "\n",
    "predictions = [predict(tweet) for tweet in test_tweets]\n",
    "1 - numpy.average(numpy.absolute(numpy.array(predictions) - test_sentiments))"
   ]
  }
 ],
 "metadata": {
  "kernelspec": {
   "display_name": "Python 3 (ipykernel)",
   "language": "python",
   "name": "python3"
  },
  "language_info": {
   "codemirror_mode": {
    "name": "ipython",
    "version": 3
   },
   "file_extension": ".py",
   "mimetype": "text/x-python",
   "name": "python",
   "nbconvert_exporter": "python",
   "pygments_lexer": "ipython3",
   "version": "3.9.6"
  }
 },
 "nbformat": 4,
 "nbformat_minor": 4
}
