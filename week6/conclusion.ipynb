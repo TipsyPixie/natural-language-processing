{
 "cells": [
  {
   "cell_type": "markdown",
   "id": "cbe7f02e-abef-4668-a0f3-9dc3d10cb0e4",
   "metadata": {},
   "source": [
    "# Part of Speech Tagging\n",
    "\n",
    "Part of Speech Tagging (POS) is the process of assigning a part of speech to a word. i.e.) verb, noun, preposition, et cetra.\n",
    "\n",
    "## Markov Property (Markov Assumption)\n",
    "\n",
    "> The conditional probability distribution of future states of the process depends **only upon the present state**; that is, given the present, the future does not depend on the past. \n",
    "\n",
    "| | | | | | |\n",
    "| -- | -- | -- | -- | -- | -- |\n",
    "| I | killed | them | to | get | kills |\n",
    "| noun | verb | noun | preposition | verb | ? |\n",
    "\n",
    "You may find the tag of 'kill', based upon the present tag of 'get', _verb_."
   ]
  },
  {
   "cell_type": "markdown",
   "id": "0f811d34-4392-4d7b-a748-d165876cd2a5",
   "metadata": {},
   "source": [
    "## Building Hidden Markov Model\n",
    "\n",
    "### Getting Transition Counts & Emission Counts"
   ]
  },
  {
   "cell_type": "code",
   "execution_count": 26,
   "id": "7d2103ed-7bc5-4e88-a9c8-edee1b8ed27f",
   "metadata": {},
   "outputs": [],
   "source": [
    "import enum\n",
    "from collections import defaultdict\n",
    "\n",
    "import numpy\n",
    "import pandas\n",
    "\n",
    "\n",
    "@enum.unique\n",
    "class Tag(str, enum.Enum):\n",
    "    STRT = \"(start)\"\n",
    "    NOUN = \"noun\"\n",
    "    VERB = \"verb\"\n",
    "    PREP = \"preposition\"\n",
    "    OTHR = \"others\"\n",
    "\n",
    "\n",
    "training_corpus = [\n",
    "    (\"i\", Tag.NOUN),\n",
    "    (\"kill\", Tag.VERB),\n",
    "    (\"them\", Tag.NOUN),\n",
    "    (\"to\", Tag.PREP),\n",
    "    (\"get\", Tag.VERB),\n",
    "    (\"kill\", Tag.NOUN),\n",
    "]\n",
    "\n",
    "\n",
    "def get_transition_counts(corpus):\n",
    "    transition_counts = defaultdict(lambda: 0)\n",
    "\n",
    "    previous_tag = Tag.STRT\n",
    "    for _, tag in corpus:\n",
    "        transition_counts[(previous_tag, tag)] += 1\n",
    "        previous_tag = tag\n",
    "\n",
    "    return transition_counts\n",
    "\n",
    "\n",
    "def get_emission_counts(corpus):\n",
    "    emission_counts = defaultdict(lambda: 0)\n",
    "\n",
    "    for word, tag in corpus:\n",
    "        emission_counts[(tag, word)] += 1\n",
    "\n",
    "    return emission_counts"
   ]
  },
  {
   "cell_type": "code",
   "execution_count": 28,
   "id": "e3b2b978-9960-42a4-89d2-d2f9199cb98f",
   "metadata": {},
   "outputs": [
    {
     "name": "stdout",
     "output_type": "stream",
     "text": [
      "(start) -> noun\t1\n",
      "noun -> verb\t1\n",
      "verb -> noun\t2\n",
      "noun -> preposition\t1\n",
      "preposition -> verb\t1\n",
      "\n",
      "noun -> i\t1\n",
      "verb -> kill\t1\n",
      "noun -> them\t1\n",
      "preposition -> to\t1\n",
      "verb -> get\t1\n",
      "noun -> kill\t1\n"
     ]
    }
   ],
   "source": [
    "import os\n",
    "\n",
    "transition_counts = get_transition_counts(training_corpus)\n",
    "emission_counts = get_emission_counts(training_corpus)\n",
    "\n",
    "print(\"\\n\".join([f\"{k[0]} -> {k[1]}\\t{v}\" for k, v in transition_counts.items()]))\n",
    "print()\n",
    "print(\"\\n\".join([f\"{k[0]} -> {k[1]}\\t{v}\" for k, v in emission_counts.items()]))"
   ]
  },
  {
   "cell_type": "code",
   "execution_count": 60,
   "id": "3683cc7a-4f37-4efc-8f13-84c3c5d9234c",
   "metadata": {},
   "outputs": [],
   "source": [
    "import numpy\n",
    "import pandas\n",
    "\n",
    "\n",
    "def create_transition_matrix(transition_counts, tags, alpha=0.001):\n",
    "    transition_matrix = pandas.DataFrame(index=tags, columns=tags)\n",
    "\n",
    "    previous_tag_count = defaultdict(lambda: 0)\n",
    "    for (previous_tag, _), count in transition_counts.items():\n",
    "        previous_tag_count[previous_tag] += count\n",
    "\n",
    "    for previous_tag in tags:\n",
    "        for next_tag in tags:\n",
    "            count = transition_counts[(previous_tag, next_tag)]\n",
    "            # smoothing\n",
    "            probability = (count + alpha) / (previous_tag_count[previous_tag] + alpha * len(tags))\n",
    "            transition_matrix.at[previous_tag, next_tag] = probability\n",
    "\n",
    "    return transition_matrix\n",
    "\n",
    "\n",
    "def create_emission_matrix(emission_counts, words, tags, alpha=0.001):\n",
    "    emission_matrix = pandas.DataFrame(index=tags, columns=words)\n",
    "\n",
    "    tag_counts = defaultdict(lambda: 0)\n",
    "    for (tag, _), count in emission_counts.items():\n",
    "        tag_counts[tag] += count\n",
    "\n",
    "    for tag in tags:\n",
    "        for word in words:\n",
    "            count = emission_counts[(tag, word)]\n",
    "            # smoothing\n",
    "            probability = (count + alpha) / (tag_counts[tag] + alpha * len(tags))\n",
    "            emission_matrix.at[tag, word] = probability\n",
    "\n",
    "    return emission_matrix"
   ]
  },
  {
   "cell_type": "code",
   "execution_count": 75,
   "id": "9b26a18f-a0c3-4821-83de-6ad138cfd3b9",
   "metadata": {
    "tags": []
   },
   "outputs": [
    {
     "name": "stdout",
     "output_type": "stream",
     "text": [
      "# transition matrix\n",
      "          Tag.STRT  Tag.NOUN  Tag.VERB  Tag.PREP  Tag.OTHR\n",
      "Tag.STRT  0.000995   0.99602  0.000995  0.000995  0.000995\n",
      "Tag.NOUN  0.000499  0.000499  0.499252  0.499252  0.000499\n",
      "Tag.VERB  0.000499  0.998005  0.000499  0.000499  0.000499\n",
      "Tag.PREP  0.000995  0.000995   0.99602  0.000995  0.000995\n",
      "Tag.OTHR       0.2       0.2       0.2       0.2       0.2\n",
      "\n",
      "# emission matrix\n",
      "                to         i      kill      them       get\n",
      "Tag.STRT       0.2       0.2       0.2       0.2       0.2\n",
      "Tag.NOUN  0.000333  0.333111  0.333111  0.333111  0.000333\n",
      "Tag.VERB  0.000499  0.000499  0.499252  0.000499  0.499252\n",
      "Tag.PREP   0.99602  0.000995  0.000995  0.000995  0.000995\n",
      "Tag.OTHR       0.2       0.2       0.2       0.2       0.2\n"
     ]
    }
   ],
   "source": [
    "tag_ids = {tag: i for i, tag in enumerate(Tag)}\n",
    "training_words = list({word for word, _ in training_corpus})\n",
    "\n",
    "transition_matrix = create_transition_matrix(transition_counts, Tag)\n",
    "emission_matrix = create_emission_matrix(emission_counts, training_words, Tag)\n",
    "print(f\"# transition matrix\\n{transition_matrix}\\n\\n# emission matrix\\n{emission_matrix}\")"
   ]
  },
  {
   "cell_type": "markdown",
   "id": "45ac30cb-9876-4e5f-81bb-303c5b0b9ecd",
   "metadata": {},
   "source": [
    "## Viterbi Forward"
   ]
  },
  {
   "cell_type": "code",
   "execution_count": 172,
   "id": "acb62491-665e-452f-9fe1-81900e701f8f",
   "metadata": {},
   "outputs": [],
   "source": [
    "def initialize_best_probability_matrix(transition_counts, emission_counts, transition_matrix, emission_matrix, words):\n",
    "    best_probability_matrix = pandas.DataFrame(data=0.0, index=transition_matrix.index, columns=words)\n",
    "\n",
    "    if len(words) < 1:\n",
    "        return best_probability_matrix\n",
    "\n",
    "    starting_word = words[0]\n",
    "    best_probability_matrix.iloc[:, 0] = [\n",
    "        float(\"-inf\")\n",
    "        if transition_counts[Tag.STRT, tag] == 0\n",
    "        else numpy.log(transition_matrix.at[Tag.STRT, tag]) + numpy.log(emission_matrix.at[tag, starting_word])\n",
    "        for tag in transition_matrix.index\n",
    "    ]\n",
    "    return best_probability_matrix\n",
    "\n",
    "\n",
    "def initialize_best_path_matrix(transition_matrix, words):\n",
    "    return pandas.DataFrame(index=transition_matrix.index, columns=words, dtype=str)"
   ]
  },
  {
   "cell_type": "code",
   "execution_count": 174,
   "id": "7ec6bfa4-ef13-4c42-8f40-6617e1305cf9",
   "metadata": {},
   "outputs": [
    {
     "data": {
      "text/html": [
       "<div>\n",
       "<style scoped>\n",
       "    .dataframe tbody tr th:only-of-type {\n",
       "        vertical-align: middle;\n",
       "    }\n",
       "\n",
       "    .dataframe tbody tr th {\n",
       "        vertical-align: top;\n",
       "    }\n",
       "\n",
       "    .dataframe thead th {\n",
       "        text-align: right;\n",
       "    }\n",
       "</style>\n",
       "<table border=\"1\" class=\"dataframe\">\n",
       "  <thead>\n",
       "    <tr style=\"text-align: right;\">\n",
       "      <th></th>\n",
       "      <th>i</th>\n",
       "      <th>kill</th>\n",
       "    </tr>\n",
       "  </thead>\n",
       "  <tbody>\n",
       "    <tr>\n",
       "      <th>Tag.STRT</th>\n",
       "      <td>-inf</td>\n",
       "      <td>0.0</td>\n",
       "    </tr>\n",
       "    <tr>\n",
       "      <th>Tag.NOUN</th>\n",
       "      <td>-1.103266</td>\n",
       "      <td>0.0</td>\n",
       "    </tr>\n",
       "    <tr>\n",
       "      <th>Tag.VERB</th>\n",
       "      <td>-inf</td>\n",
       "      <td>0.0</td>\n",
       "    </tr>\n",
       "    <tr>\n",
       "      <th>Tag.PREP</th>\n",
       "      <td>-inf</td>\n",
       "      <td>0.0</td>\n",
       "    </tr>\n",
       "    <tr>\n",
       "      <th>Tag.OTHR</th>\n",
       "      <td>-inf</td>\n",
       "      <td>0.0</td>\n",
       "    </tr>\n",
       "  </tbody>\n",
       "</table>\n",
       "</div>"
      ],
      "text/plain": [
       "                 i  kill\n",
       "Tag.STRT      -inf   0.0\n",
       "Tag.NOUN -1.103266   0.0\n",
       "Tag.VERB      -inf   0.0\n",
       "Tag.PREP      -inf   0.0\n",
       "Tag.OTHR      -inf   0.0"
      ]
     },
     "execution_count": 174,
     "metadata": {},
     "output_type": "execute_result"
    }
   ],
   "source": [
    "initialize_best_probability_matrix(\n",
    "    transition_counts, emission_counts, transition_matrix, emission_matrix, words=[\"i\", \"kill\"]\n",
    ")"
   ]
  },
  {
   "cell_type": "code",
   "execution_count": 175,
   "id": "50c76968-d182-484d-9766-d5006ab0cf84",
   "metadata": {},
   "outputs": [],
   "source": [
    "def viterbi_forward(transition_counts, emission_counts, transition_matrix, emission_matrix, words):\n",
    "    best_probability_matrix = initialize_best_probability_matrix(\n",
    "        transition_counts, emission_counts, transition_matrix, emission_matrix, words\n",
    "    )\n",
    "    best_path_matrix = initialize_best_path_matrix(transition_matrix, words)\n",
    "\n",
    "    for word_index, word in enumerate(best_probability_matrix.columns[1:], start=1):\n",
    "        for tag in best_probability_matrix.index:\n",
    "            best_probability, best_path = float(\"-inf\"), None\n",
    "            tag_to_word_log = numpy.log(emission_matrix.at[tag, word])\n",
    "\n",
    "            for previous_tag in best_probability_matrix.index:\n",
    "                if (\n",
    "                    probability := best_probability_matrix.loc[previous_tag].iloc[word_index - 1]\n",
    "                    + numpy.log(transition_matrix.at[previous_tag, tag])\n",
    "                    + tag_to_word_log\n",
    "                ) > best_probability:\n",
    "                    best_probability, best_path = probability, previous_tag\n",
    "\n",
    "            best_probability_matrix.at[tag, word] = best_probability\n",
    "            best_path_matrix.at[tag, word] = best_path\n",
    "\n",
    "    return best_probability_matrix, best_path_matrix"
   ]
  },
  {
   "cell_type": "code",
   "execution_count": 195,
   "id": "ecb95413-87b4-4cd6-92c3-209b92202392",
   "metadata": {},
   "outputs": [
    {
     "data": {
      "text/plain": [
       "(                 i        get         to       kill       them\n",
       " Tag.STRT      -inf -10.316103 -11.705392 -14.924268 -18.143144\n",
       " Tag.NOUN -1.103266 -16.714698 -10.502585 -12.808659 -11.899850\n",
       " Tag.VERB      -inf  -2.492555 -16.318041 -10.798575 -21.106702\n",
       " Tag.PREP      -inf  -8.710653 -10.099943 -18.109972 -20.416046\n",
       " Tag.OTHR      -inf -10.316103 -11.705392 -14.924268 -18.143144,\n",
       "             i       get        to      kill      them\n",
       " Tag.STRT  NaN  Tag.NOUN  Tag.VERB  Tag.OTHR  Tag.OTHR\n",
       " Tag.NOUN  NaN  Tag.NOUN  Tag.VERB  Tag.STRT  Tag.VERB\n",
       " Tag.VERB  NaN  Tag.NOUN  Tag.PREP  Tag.PREP  Tag.NOUN\n",
       " Tag.PREP  NaN  Tag.NOUN  Tag.VERB  Tag.NOUN  Tag.NOUN\n",
       " Tag.OTHR  NaN  Tag.NOUN  Tag.VERB  Tag.OTHR  Tag.OTHR)"
      ]
     },
     "execution_count": 195,
     "metadata": {},
     "output_type": "execute_result"
    }
   ],
   "source": [
    "best_probability_matrix, best_path_matrix = viterbi_forward(\n",
    "    transition_counts, emission_counts, transition_matrix, emission_matrix, words=[\"i\", \"get\", \"to\", \"kill\", \"them\"]\n",
    ")\n",
    "best_probability_matrix, best_path_matrix"
   ]
  },
  {
   "cell_type": "markdown",
   "id": "576ec31f-b4ed-4fb5-8678-059d5b634bea",
   "metadata": {},
   "source": [
    "## Viterbi Backward"
   ]
  },
  {
   "cell_type": "code",
   "execution_count": 218,
   "id": "bda9118e-06f9-412d-bed0-2eb96465407d",
   "metadata": {},
   "outputs": [],
   "source": [
    "def viterbi_backward(best_probability_matrix, best_path_matrix):\n",
    "    tag_results = []\n",
    "\n",
    "    last_word = best_probability_matrix.columns[-1]\n",
    "    best_last_tag, best_last_prob = None, float(\"-inf\")\n",
    "    for tag in best_probability_matrix.index:\n",
    "        if (last_prob := best_probability_matrix.at[tag, last_word]) > best_last_prob:\n",
    "            best_last_tag, best_last_prob = tag, last_prob\n",
    "    tag_results.append(best_last_tag)\n",
    "    tag_results.append(best_path_matrix.at[best_last_tag, last_word])\n",
    "\n",
    "    for i in range(1, len(best_path_matrix.columns) - 1):\n",
    "        tag_results.append(best_path_matrix.loc[tag_results[i]].iloc[len(best_path_matrix.columns) - 1 - i])\n",
    "\n",
    "    return tag_results[::-1]"
   ]
  },
  {
   "cell_type": "code",
   "execution_count": 223,
   "id": "cd411d78-923a-46e3-aa80-08c1983c4d82",
   "metadata": {},
   "outputs": [
    {
     "data": {
      "text/plain": [
       "[('i', 'NOUN'),\n",
       " ('get', 'VERB'),\n",
       " ('to', 'PREP'),\n",
       " ('kill', 'VERB'),\n",
       " ('them', 'NOUN')]"
      ]
     },
     "execution_count": 223,
     "metadata": {},
     "output_type": "execute_result"
    }
   ],
   "source": [
    "test_corpus = [\"i\", \"get\", \"to\", \"kill\", \"them\"]\n",
    "\n",
    "best_probability_matrix, best_path_matrix = viterbi_forward(\n",
    "    transition_counts, emission_counts, transition_matrix, emission_matrix, words=test_corpus\n",
    ")\n",
    "\n",
    "list(\n",
    "    zip(\n",
    "        test_corpus,\n",
    "        [item.name for item in viterbi_backward(best_probability_matrix, best_path_matrix)],\n",
    "    )\n",
    ")"
   ]
  }
 ],
 "metadata": {
  "kernelspec": {
   "display_name": "Python 3 (ipykernel)",
   "language": "python",
   "name": "python3"
  },
  "language_info": {
   "codemirror_mode": {
    "name": "ipython",
    "version": 3
   },
   "file_extension": ".py",
   "mimetype": "text/x-python",
   "name": "python",
   "nbconvert_exporter": "python",
   "pygments_lexer": "ipython3",
   "version": "3.9.7"
  }
 },
 "nbformat": 4,
 "nbformat_minor": 5
}
