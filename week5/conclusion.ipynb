{
 "cells": [
  {
   "cell_type": "markdown",
   "metadata": {
    "tags": []
   },
   "source": [
    "# Autocorrect"
   ]
  },
  {
   "cell_type": "code",
   "execution_count": 2,
   "metadata": {},
   "outputs": [],
   "source": [
    "import collections\n",
    "import itertools\n",
    "import re\n",
    "\n",
    "import numpy\n",
    "import pandas"
   ]
  },
  {
   "cell_type": "markdown",
   "metadata": {},
   "source": [
    "## Data Loading & Processing"
   ]
  },
  {
   "cell_type": "code",
   "execution_count": 3,
   "metadata": {},
   "outputs": [],
   "source": [
    "def process_data(file_path):\n",
    "    with open(file_path, \"r\") as file:\n",
    "        pattern = re.compile(r\"\\w+\")\n",
    "        for text_line in file:\n",
    "            for match in pattern.finditer(text_line):\n",
    "                yield match[0].lower()"
   ]
  },
  {
   "cell_type": "code",
   "execution_count": 4,
   "metadata": {},
   "outputs": [
    {
     "data": {
      "text/plain": [
       "['o',\n",
       " 'for',\n",
       " 'a',\n",
       " 'muse',\n",
       " 'of',\n",
       " 'fire',\n",
       " 'that',\n",
       " 'would',\n",
       " 'ascend',\n",
       " 'the',\n",
       " 'brightest',\n",
       " 'heaven',\n",
       " 'of',\n",
       " 'invention',\n",
       " 'a',\n",
       " 'kingdom']"
      ]
     },
     "execution_count": 4,
     "metadata": {},
     "output_type": "execute_result"
    }
   ],
   "source": [
    "words = list(process_data(\"shakespeare.txt\"))\n",
    "words[:16]"
   ]
  },
  {
   "cell_type": "markdown",
   "metadata": {},
   "source": [
    "## Getting Word Probabilities"
   ]
  },
  {
   "cell_type": "code",
   "execution_count": 5,
   "metadata": {},
   "outputs": [],
   "source": [
    "def get_probabiliites(words):\n",
    "    word_counter = collections.Counter(words)\n",
    "    total_count = sum(word_counter.values())\n",
    "    return collections.Counter({word: word_count / total_count for word, word_count in word_counter.items()})"
   ]
  },
  {
   "cell_type": "code",
   "execution_count": 6,
   "metadata": {},
   "outputs": [
    {
     "data": {
      "text/plain": [
       "[('o', 0.0029283396127877045),\n",
       " ('for', 0.008840974372365426),\n",
       " ('a', 0.01411944641325027),\n",
       " ('muse', 0.000335733204013877),\n",
       " ('of', 0.020405118066176745),\n",
       " ('fire', 0.0004103405826836274),\n",
       " ('that', 0.014641698063938523),\n",
       " ('would', 0.0025739545641063903),\n",
       " ('ascend', 1.865184466743761e-05),\n",
       " ('the', 0.028444063117842356),\n",
       " ('brightest', 3.730368933487522e-05),\n",
       " ('heaven', 0.0008952885440370053),\n",
       " ('invention', 0.0001678666020069385),\n",
       " ('kingdom', 0.00011191106800462566),\n",
       " ('stage', 5.595553400231283e-05),\n",
       " ('princes', 7.460737866975044e-05)]"
      ]
     },
     "execution_count": 6,
     "metadata": {},
     "output_type": "execute_result"
    }
   ],
   "source": [
    "probabilities = get_probabiliites(words)\n",
    "list(itertools.islice(probabilities.items(), 16))"
   ]
  },
  {
   "cell_type": "markdown",
   "metadata": {},
   "source": [
    "## Getting Possible Candidates"
   ]
  },
  {
   "cell_type": "code",
   "execution_count": 7,
   "metadata": {},
   "outputs": [],
   "source": [
    "def get_candidates(word, f):\n",
    "    candidates = set()\n",
    "    for i in range(len(word) + 1):\n",
    "        former, latter = word[:i], word[i:]\n",
    "        candidates |= f(former, latter)\n",
    "    return candidates\n",
    "\n",
    "\n",
    "def by_addition(a, b, /):\n",
    "    return {f\"{a}{alphabet}{b}\" for alphabet in \"abcdefghijklmnopqrstuvwxyz\"}\n",
    "\n",
    "\n",
    "def by_deletion(a, b, /):\n",
    "    return {f\"{a}{b[1:]}\"} if len(b) >= 1 else set()\n",
    "\n",
    "\n",
    "def by_substitution(a, b, /):\n",
    "    return {f\"{a}{alphabet}{b[1:]}\" for alphabet in \"abcdefghijklmnopqrstuvwxyz\" if len(b) >= 1}\n",
    "\n",
    "\n",
    "def get_primary_candidates(word):\n",
    "    return get_candidates(word, by_addition) | get_candidates(word, by_deletion) | get_candidates(word, by_substitution)\n",
    "\n",
    "\n",
    "def get_secondary_candidates(word):\n",
    "    secondary_candidates = set()\n",
    "    for primary_candidate in get_primary_candidates(word):\n",
    "        secondary_candidates |= get_primary_candidates(primary_candidate)\n",
    "    return secondary_candidates\n",
    "\n",
    "\n",
    "def get_corrections(word, word_probabilities, n=5):\n",
    "    vocabularies = set(word_probabilities.keys())\n",
    "    candidates = (\n",
    "        {word} & vocabularies\n",
    "        or get_primary_candidates(word) & vocabularies\n",
    "        or get_secondary_candidates(word) & vocabularies\n",
    "        or {word}\n",
    "    )\n",
    "    return collections.Counter({candidate: word_probabilities[candidate] for candidate in candidates}).most_common(n)"
   ]
  },
  {
   "cell_type": "code",
   "execution_count": 8,
   "metadata": {},
   "outputs": [
    {
     "data": {
      "text/plain": [
       "[('days', 0.0004103405826836274), ('dye', 1.865184466743761e-05)]"
      ]
     },
     "execution_count": 8,
     "metadata": {},
     "output_type": "execute_result"
    }
   ],
   "source": [
    "get_corrections(word=\"dys\", word_probabilities=probabilities)"
   ]
  },
  {
   "cell_type": "markdown",
   "metadata": {},
   "source": [
    "## Evaluating Similarity Between Two Strings"
   ]
  },
  {
   "cell_type": "markdown",
   "metadata": {},
   "source": [
    "### Minimum Edit Distance"
   ]
  },
  {
   "cell_type": "code",
   "execution_count": 9,
   "metadata": {},
   "outputs": [],
   "source": [
    "def get_minimum_edit_distance(a, b, /, delete_cost=1, insert_cost=1, replace_cost=2):\n",
    "    distance_matrix = numpy.zeros(shape=(len(a) + 1, len(b) + 1))\n",
    "    for row_index in range(distance_matrix.shape[0]):\n",
    "        distance_matrix[row_index, 0] = row_index\n",
    "    for col_index in range(distance_matrix.shape[1]):\n",
    "        distance_matrix[0, col_index] = col_index\n",
    "\n",
    "    for row_index in range(1, distance_matrix.shape[0]):\n",
    "        for col_index in range(1, distance_matrix.shape[1]):\n",
    "            replace_unnecessary = a[row_index - 1] == b[col_index - 1]\n",
    "            distance_matrix[row_index, col_index] = min(\n",
    "                distance_matrix[row_index - 1, col_index - 1] + (0 if replace_unnecessary else replace_cost),\n",
    "                distance_matrix[row_index - 1, col_index] + delete_cost,\n",
    "                distance_matrix[row_index, col_index - 1] + insert_cost,\n",
    "            )\n",
    "\n",
    "    return distance_matrix[distance_matrix.shape[0] - 1, distance_matrix.shape[1] - 1]"
   ]
  },
  {
   "cell_type": "code",
   "execution_count": 12,
   "metadata": {},
   "outputs": [
    {
     "name": "stdout",
     "output_type": "stream",
     "text": [
      "2.0\n",
      "1.0\n",
      "4.0\n"
     ]
    }
   ],
   "source": [
    "print(get_minimum_edit_distance(\"dys\", \"dye\"))\n",
    "print(get_minimum_edit_distance(\"dys\", \"days\"))\n",
    "print(get_minimum_edit_distance(\"dys\", \"die\"))"
   ]
  }
 ],
 "metadata": {
  "kernelspec": {
   "display_name": "Python 3 (ipykernel)",
   "language": "python",
   "name": "python3"
  },
  "language_info": {
   "codemirror_mode": {
    "name": "ipython",
    "version": 3
   },
   "file_extension": ".py",
   "mimetype": "text/x-python",
   "name": "python",
   "nbconvert_exporter": "python",
   "pygments_lexer": "ipython3",
   "version": "3.9.7"
  }
 },
 "nbformat": 4,
 "nbformat_minor": 4
}
